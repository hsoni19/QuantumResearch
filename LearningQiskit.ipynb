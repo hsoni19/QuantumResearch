{
 "cells": [
  {
   "cell_type": "markdown",
   "id": "7f4a07ee-bc96-4871-9be1-fc56ea8206ed",
   "metadata": {},
   "source": [
    "# Qiskit for QKD"
   ]
  },
  {
   "cell_type": "code",
   "execution_count": 1,
   "id": "07927d2c-8b9d-4160-8817-71e9f37a4f39",
   "metadata": {},
   "outputs": [],
   "source": [
    "from qiskit import QuantumCircuit, transpile\n",
    "from qiskit_aer import Aer\n",
    "from qiskit.visualization import plot_histogram, plot_bloch_multivector\n",
    "from numpy.random import randint\n",
    "import numpy as np"
   ]
  },
  {
   "cell_type": "markdown",
   "id": "be45552c-efa0-4453-a3cc-c3d8491956cc",
   "metadata": {},
   "source": [
    "### Proving qubits cant be intercepted"
   ]
  },
  {
   "cell_type": "markdown",
   "id": "e80517d7-2906-49fb-aa79-f2896a1de8aa",
   "metadata": {},
   "source": [
    "If Alice prepares a qubit in state |+> (0 in x basis) then Bob will definitely measure 0"
   ]
  },
  {
   "cell_type": "code",
   "execution_count": 2,
   "id": "1102cf7e-7442-4302-8943-c7a7da890d92",
   "metadata": {},
   "outputs": [
    {
     "data": {
      "image/png": "[encoded data removed]",
      "text/plain": [
       "<Figure size 640x480 with 1 Axes>"
      ]
     },
     "execution_count": 2,
     "metadata": {},
     "output_type": "execute_result"
    }
   ],
   "source": [
    "# A preps qubit\n",
    "qc = QuantumCircuit(1, 1)\n",
    "qc.h(0)\n",
    "qc.barrier()\n",
    "\n",
    "# A sends qubit to B and B measures it in the X basis\n",
    "qc.h(0)\n",
    "qc.measure(0,0)\n",
    "\n",
    "# Draw and simulate circuit\n",
    "qc.draw()\n",
    "aer_sim = Aer.get_backend('aer_simulator')\n",
    "job = aer_sim.run(qc)\n",
    "plot_histogram(job.result().get_counts())\n"
   ]
  },
  {
   "cell_type": "markdown",
   "id": "9170dfd9-2910-4928-ac5c-6b24873b48cb",
   "metadata": {},
   "source": [
    "Now if Eve tries to intercept the qubit, the interference becomes obvious"
   ]
  },
  {
   "cell_type": "code",
   "execution_count": 3,
   "id": "e53becb3-3846-4da7-bcde-1fa5a88a4eb3",
   "metadata": {},
   "outputs": [
    {
     "data": {
      "text/html": [
       "<pre style=\"word-wrap: normal;white-space: pre;background: #fff0;line-height: 1.1;font-family: &quot;Courier New&quot;,Courier,monospace\">     ┌───┐┌─┐ ░ ┌───┐┌─┐\n",
       "  q: ┤ H ├┤M├─░─┤ H ├┤M├\n",
       "     └───┘└╥┘ ░ └───┘└╥┘\n",
       "c: 1/══════╩══════════╩═\n",
       "           0          0 </pre>"
      ],
      "text/plain": [
       "     ┌───┐┌─┐ ░ ┌───┐┌─┐\n",
       "  q: ┤ H ├┤M├─░─┤ H ├┤M├\n",
       "     └───┘└╥┘ ░ └───┘└╥┘\n",
       "c: 1/══════╩══════════╩═\n",
       "           0          0 "
      ]
     },
     "metadata": {},
     "output_type": "display_data"
    },
    {
     "data": {
      "image/png": "[encoded data removed]",
      "text/plain": [
       "<Figure size 640x480 with 1 Axes>"
      ]
     },
     "execution_count": 3,
     "metadata": {},
     "output_type": "execute_result"
    }
   ],
   "source": [
    "# A preps qubit in state |+>\n",
    "qc = QuantumCircuit(1,1)\n",
    "qc.h(0)\n",
    "\n",
    "# A tries to send the qubit to B but E intercepts it\n",
    "qc.measure(0, 0)\n",
    "qc.barrier()\n",
    "\n",
    "# E then passes this on to B who measures it in the X-basis\n",
    "qc.h(0)\n",
    "qc.measure(0,0)\n",
    "\n",
    "# Draw and simulate circuit\n",
    "display(qc.draw())\n",
    "aer_sim = Aer.get_backend('aer_simulator')\n",
    "job = aer_sim.run(qc)\n",
    "plot_histogram(job.result().get_counts())"
   ]
  },
  {
   "cell_type": "markdown",
   "id": "770cec05-09c1-4dd1-abef-b3c719961abf",
   "metadata": {},
   "source": [
    "Bob now has a 50% chance of measuring 1, so he knows the message has been intercepted so he can discard it"
   ]
  },
  {
   "cell_type": "markdown",
   "id": "814f949b-c133-4c08-a55a-e727bda77c85",
   "metadata": {},
   "source": [
    "### QKD \n",
    "#### Quantum Transmission\n",
    "Alice generates random sequence of bits and encodes it using a random sequence of bases"
   ]
  },
  {
   "cell_type": "code",
   "execution_count": 17,
   "id": "a5308f2e-94c4-44b1-8939-cb3ac2c0425a",
   "metadata": {},
   "outputs": [
    {
     "name": "stdout",
     "output_type": "stream",
     "text": [
      "[0 1 1 0 1 1 1 1 1 1 1 0 0 1 0 0 0 0 0 1 0 1 1 0 0 1 1 1 1 0 1 0 1 0 1 1 0\n",
      " 1 1 0 0 1 0 1 1 1 1 1 0 1 0 1 1 1 1 0 1 0 0 1 1 0 1 0 1 0 0 0 0 0 1 1 0 0\n",
      " 0 1 1 0 1 0 0 1 0 1 1 1 1 1 1 0 1 1 0 0 1 0 0 1 1 0]\n",
      "[1 0 0 1 0 0 0 1 1 0 1 0 0 0 0 0 1 0 1 0 1 1 1 1 1 0 1 1 1 1 0 1 1 0 0 1 0\n",
      " 0 0 0 1 1 0 0 1 0 1 1 1 1 0 0 0 1 0 1 1 1 0 1 0 0 1 0 1 1 0 0 1 0 1 0 1 0\n",
      " 1 0 1 0 0 0 1 0 1 0 1 0 0 0 0 0 1 0 0 1 0 0 0 1 0 0]\n"
     ]
    }
   ],
   "source": [
    "np.random.seed(seed=0)\n",
    "n = 100 # length of sequence to generate\n",
    "\n",
    "aliceBits = randint(2, size=n)\n",
    "print(aliceBits)\n",
    "aliceBases = randint(2, size=n) # 0 represents Z basis and 1 represents X basis\n",
    "print(aliceBases)\n",
    "\n",
    "def encodeMessage(bits, bases):\n",
    "    message = []\n",
    "    for i in range(n):\n",
    "        qc = QuantumCircuit(1,1)\n",
    "        if bases[i] == 0: # Prepare qubit in Z-basis\n",
    "            if bits[i] == 0:\n",
    "                pass \n",
    "            else:\n",
    "                qc.x(0)\n",
    "        else: # Prepare qubit in X-basis\n",
    "            if bits[i] == 0:\n",
    "                qc.h(0)\n",
    "            else:\n",
    "                qc.x(0)\n",
    "                qc.h(0)\n",
    "        qc.barrier()\n",
    "        message.append(qc)\n",
    "    return message\n",
    "\n",
    "message = encodeMessage(aliceBits, aliceBases)"
   ]
  },
  {
   "cell_type": "code",
   "execution_count": 18,
   "id": "1acd59c3-f666-4810-b4f6-18f712dec17d",
   "metadata": {},
   "outputs": [
    {
     "name": "stdout",
     "output_type": "stream",
     "text": [
      "bit = 0\n",
      "basis = 1\n"
     ]
    },
    {
     "data": {
      "text/html": [
       "<pre style=\"word-wrap: normal;white-space: pre;background: #fff0;line-height: 1.1;font-family: &quot;Courier New&quot;,Courier,monospace\">     ┌───┐ ░ \n",
       "  q: ┤ H ├─░─\n",
       "     └───┘ ░ \n",
       "c: 1/════════\n",
       "             </pre>"
      ],
      "text/plain": [
       "     ┌───┐ ░ \n",
       "  q: ┤ H ├─░─\n",
       "     └───┘ ░ \n",
       "c: 1/════════\n",
       "             "
      ]
     },
     "execution_count": 18,
     "metadata": {},
     "output_type": "execute_result"
    }
   ],
   "source": [
    "print('bit = %i' % aliceBits[0])\n",
    "print('basis = %i' % aliceBases[0])\n",
    "message[0].draw() #shown to be in the state |+>"
   ]
  },
  {
   "cell_type": "markdown",
   "id": "4c2d9051-8257-4d71-8284-fee9e0741535",
   "metadata": {},
   "source": [
    "The message of qubits are then sent over a quantum channel and Bob chooses a random sequence of bases to measure them in. He keeps these results private but the channel used to communicate the message could have been compromised (we'll see this later)"
   ]
  },
  {
   "cell_type": "code",
   "execution_count": 6,
   "id": "6cac340f-53c2-46c7-87a2-8f7a8bcf5ff3",
   "metadata": {},
   "outputs": [],
   "source": [
    "def measureMessage(message, bases):\n",
    "    backend = Aer.get_backend('aer_simulator')\n",
    "    measurements = []\n",
    "    for q in range(n):\n",
    "        if bases[q] == 0: # measuring in Z-basis\n",
    "            message[q].measure(0,0)\n",
    "        if bases[q] == 1: # measuring in X-basis\n",
    "            message[q].h(0)\n",
    "            message[q].measure(0,0)\n",
    "        aer_sim = Aer.get_backend('aer_simulator')\n",
    "        result = aer_sim.run(message[q], shots=1, memory=True).result()\n",
    "        measured_bit = int(result.get_memory()[0])\n",
    "        measurements.append(measured_bit)\n",
    "    return measurements\n",
    "\n",
    "bobBases = randint(2, size=n)\n",
    "bobResults = measureMessage(message, bobBases)"
   ]
  },
  {
   "cell_type": "code",
   "execution_count": 7,
   "id": "26ea6583-e2da-46df-a269-1dfbf836749a",
   "metadata": {},
   "outputs": [
    {
     "name": "stdout",
     "output_type": "stream",
     "text": [
      "[0, 1, 0, 0, 1, 0, 1, 1, 0, 1, 1, 0, 0, 1, 0, 0, 0, 0, 1, 0, 0, 1, 1, 0, 0, 0, 1, 1, 1, 0, 1, 0, 0, 0, 1, 1, 1, 1, 1, 0, 1, 1, 0, 1, 1, 0, 1, 0, 0, 1, 1, 0, 0, 1, 0, 0, 1, 0, 0, 1, 0, 1, 0, 0, 0, 0, 0, 0, 0, 0, 1, 0, 0, 0, 0, 1, 1, 0, 1, 0, 0, 0, 0, 1, 1, 0, 1, 1, 0, 1, 1, 0, 0, 0, 1, 0, 0, 1, 0, 1]\n"
     ]
    },
    {
     "data": {
      "text/html": [
       "<pre style=\"word-wrap: normal;white-space: pre;background: #fff0;line-height: 1.1;font-family: &quot;Courier New&quot;,Courier,monospace\">     ┌───┐ ░ ┌───┐┌─┐\n",
       "  q: ┤ H ├─░─┤ H ├┤M├\n",
       "     └───┘ ░ └───┘└╥┘\n",
       "c: 1/══════════════╩═\n",
       "                   0 </pre>"
      ],
      "text/plain": [
       "     ┌───┐ ░ ┌───┐┌─┐\n",
       "  q: ┤ H ├─░─┤ H ├┤M├\n",
       "     └───┘ ░ └───┘└╥┘\n",
       "c: 1/══════════════╩═\n",
       "                   0 "
      ]
     },
     "execution_count": 7,
     "metadata": {},
     "output_type": "execute_result"
    }
   ],
   "source": [
    "print(bobResults)\n",
    "message[0].draw() # shows the bit has been measured"
   ]
  },
  {
   "cell_type": "markdown",
   "id": "cf81cdf8-ec4b-42a5-881f-77944ce9ba83",
   "metadata": {},
   "source": [
    "#### Post-Processing\n",
    "Alice and Bob then share which bases they each used and discard the bits measured in different bases, producing the key with the remaining bits. This information is done across a classical channel, and so it could be intercepted by Eve."
   ]
  },
  {
   "cell_type": "code",
   "execution_count": 8,
   "id": "f110bac2-37ec-498d-91a1-01da480be084",
   "metadata": {},
   "outputs": [
    {
     "name": "stdout",
     "output_type": "stream",
     "text": [
      "[0, 1, 1, 1, 1, 0, 1, 0, 0, 0, 0, 1, 0, 0, 0, 1, 1, 1, 0, 1, 0, 1, 1, 0, 1, 0, 0, 0, 0, 0, 0, 1, 0, 0, 1, 1, 0, 0, 0, 1, 1, 1, 1, 0, 0, 1, 0, 0]\n",
      "[0, 1, 1, 1, 1, 0, 1, 0, 0, 0, 0, 1, 0, 0, 0, 1, 1, 1, 0, 1, 0, 1, 1, 0, 1, 0, 0, 0, 0, 0, 0, 1, 0, 0, 1, 1, 0, 0, 0, 1, 1, 1, 1, 0, 0, 1, 0, 0]\n"
     ]
    }
   ],
   "source": [
    "def removeDifferences(aBases, bBases, bits):\n",
    "    sameBits = []\n",
    "    for q in range(n):\n",
    "        if aBases[q] == bBases[q]:\n",
    "            sameBits.append(int(bits[q]))\n",
    "    return sameBits\n",
    "    \n",
    "aliceKey = removeDifferences(aliceBases, bobBases, aliceBits)\n",
    "bobKey = removeDifferences(aliceBases, bobBases, bobResults)\n",
    "print(aliceKey)\n",
    "print(bobKey)"
   ]
  },
  {
   "cell_type": "markdown",
   "id": "76a83ee4-8225-4c1b-a67e-affbc0f08ab5",
   "metadata": {},
   "source": [
    "The last step is to choose a sample of bits to share and compare, so that Alice and Bob can ensure they have the same key."
   ]
  },
  {
   "cell_type": "code",
   "execution_count": 9,
   "id": "0b5c50b9-1251-4909-87e6-d6e0cd887df7",
   "metadata": {},
   "outputs": [
    {
     "name": "stdout",
     "output_type": "stream",
     "text": [
      "  bob_sample = [0, 1, 0, 1, 1, 0, 0, 0, 0, 0, 0, 1, 0, 0, 0]\n",
      "alice_sample = [0, 1, 0, 1, 1, 0, 0, 0, 0, 0, 0, 1, 0, 0, 0]\n",
      "Yay! Keys match! key length = 33\n"
     ]
    }
   ],
   "source": [
    "def sampleBits(bits, selection):\n",
    "    sample = []\n",
    "    for i in selection:\n",
    "        i = np.mod(i, len(bits)) # np.mod ensures i is in the range required\n",
    "        sample.append(bits.pop(i)) # removes it from bits and appends to sample\n",
    "    return sample\n",
    "    \n",
    "sampleSize = 15\n",
    "bitSelection = randint(n, size=sampleSize)\n",
    "\n",
    "bobSample = sampleBits(bobKey, bitSelection)\n",
    "print(\"  bob_sample = \" + str(bobSample))\n",
    "aliceSample = sampleBits(aliceKey, bitSelection)\n",
    "print(\"alice_sample = \"+ str(aliceSample))\n",
    "\n",
    "if bobSample == aliceSample:\n",
    "    print(\"Yay! Keys match! key length = %i\" % len(aliceKey))\n",
    "else:\n",
    "    print(\"Uh Oh! The keys don't match! try again\")"
   ]
  },
  {
   "cell_type": "markdown",
   "id": "b56ccbc3-dba6-4473-ab16-9cd2568fd99c",
   "metadata": {},
   "source": [
    "### Interception\n",
    "Now, if the channel over which Alice and Bob share information is compromised and Eve intercepts all the information, can she find the key?"
   ]
  },
  {
   "cell_type": "code",
   "execution_count": 10,
   "id": "209bca45-c9ec-4d68-956e-d85441d8b90c",
   "metadata": {},
   "outputs": [
    {
     "name": "stdout",
     "output_type": "stream",
     "text": [
      "  bob_sample = [1, 1, 0, 0, 1, 1, 0, 1, 1, 0, 0, 1, 1, 1, 0]\n",
      "alice_sample = [1, 1, 0, 0, 1, 0, 0, 0, 0, 0, 0, 1, 0, 0, 0]\n",
      "Uh Oh! The keys don't match! Eve's interference was detected\n"
     ]
    }
   ],
   "source": [
    "np.random.seed(seed=3)\n",
    "\n",
    "# A creates her random sequence of bits and bases and encodes them\n",
    "aliceBits = randint(2, size=n)\n",
    "aliceBases = randint(2, size=n)\n",
    "message = encodeMessage(aliceBits, aliceBases)\n",
    "\n",
    "# Interception!! E measures the qubits with her own bases sent across the channel\n",
    "eveBases = randint(2, size=n)\n",
    "interceptedMessage = measureMessage(message, eveBases)\n",
    "\n",
    "# B then measures the qubits with his own bases\n",
    "bobBases = randint(2, size=n)\n",
    "bobResults = measureMessage(message, bobBases)\n",
    "\n",
    "# A and B compare bases and discard all the bits measured using different bases\n",
    "bobKey = removeDifferences(aliceBases, bobBases, bobResults)\n",
    "aliceKey = removeDifferences(aliceBases, bobBases, aliceBits)\n",
    "\n",
    "# Now when A and B sample their respective keys, they can notice something has gone wrong\n",
    "sampleSize = 15\n",
    "bitSelection = randint(n, size=sampleSize)\n",
    "bobSample = sampleBits(bobKey, bitSelection)\n",
    "print(\"  bob_sample = \" + str(bobSample))\n",
    "aliceSample = sampleBits(aliceKey, bitSelection)\n",
    "print(\"alice_sample = \"+ str(aliceSample))\n",
    "\n",
    "if bobSample == aliceSample:\n",
    "    print(\"Yay! Keys match! key length = %i\" % len(aliceKey))\n",
    "else:\n",
    "    print(\"Uh Oh! The keys don't match! Eve's interference was detected\")"
   ]
  },
  {
   "cell_type": "markdown",
   "id": "0f5bc031-7a36-4386-9a01-2c4741971059",
   "metadata": {},
   "source": [
    "Although Alice and Bob have detected the difference in their keys using the sample, they have no way of knowing what caused this so they are forced to start over. It could have been due to noise in the channel or other factors. \n",
    "As Eve measures all the qubits passed along the channel, we can calculate how likely it is that Eve's interception will be detected. For each qubit that remains after Alice and discard the bits they measured using different bases, Eve has a 50% chance of guessing the basis correct and if she gets it wrong, there is a 50% chance Bob still reads it right. So each bit has a 0.75 probability of matching and given a sample of size 15 (as above), there is a 0.75<sup>15</sup> = 1.3% chance of Eve's interception being undetected. This probability decreases exponentially with sample size and so ca be reduced significantly."
   ]
  },
  {
   "cell_type": "markdown",
   "id": "0d220449-e0e6-43d0-b84d-74c7521974dc",
   "metadata": {},
   "source": [
    "### Other Protocols\n",
    "\n",
    "This protocol is called BB84 and was proposed by Charles Bennett and Gilles Brassard. It consists of two channels - the classical and quantum - and uses the rectilinear ⊕ = (|0>, |1>) and diagonal ⊗ = (|+>, |->) polarisation basis (these are mutually unbiased, which is why when Bob measures with the wrong  basis, that information is discarded because it is completely random and unpredictable).\n",
    "\n",
    "#### B92\n",
    "\n",
    "Another protocol is B92, also presented by Charles Bennett several years later, which only uses two states of polarisation (not 4 like BB84). Similar to BB84, B92 uses polarised photons, communicates using a public classical channel and a quantum channel, and is split into two phases: the quantum transmission, and the classical post-processing.\n",
    "\n",
    "In B92's first phase, Alice chooses a sequence of bits, and encodes each 0 as |0> and each 1 as |+>. Bob also chooses a sequence of bits and uses this to produce a sequence of bases: ⊕ for 0 and ⊗ for 1. Alice then sends her encoded bits across the quantum channel and Bob measures them in the bases he's chosen. In the classical phase, Bob shares his results in the form of bits, where a 1 represents |-> and these are the bits both Alice and Bob keep."
   ]
  },
  {
   "cell_type": "markdown",
   "id": "4ffd5e81-30ec-4a7c-a5b0-b35f21a6f3ef",
   "metadata": {},
   "source": [
    "#### SARG04\n",
    "\n",
    "A variation of BB84, this protocol was built to develop the information encoding to become more robust against photon-number splitting (PNS) attacks. In the classical phase, Alice doesn't announce the bases she used, but instead announces two possible states, noting which is correct. Bob then knows that the qubit he recieved was in one of those two states and can see if his measurement aligns with any of the possibilities. If it's in accordance with both states, they discard this bit, as he doesn't have enough information but if it's only in accordance with one state, he can retrieve the desired bit, being sure it is valid so they can use this for their key. \n",
    "\n",
    "So if Alice sends |0> with two photon pulses in the randomly selected set (one of {|0>, |+>}, {|0>, |->}, {|1>, |+>}, {|1>, |->}) and then reveals the set to be {|0>, |+>}, noting 0 as the secret bit. If Bob chose to measure using ⊕ = {|0>, |1>}, the outcome would be |0> but Bob can't be sure if this is because Alice sent |0> or |1>, as both would result in a |0>. Therefore, the bit is deemed invalid and has to be discarded. However, if Bob chose to measure using ⊗ = {|+>, |->}, he obtains either |1> or |-> with 1/5 probability. If he gets |1>, he still can't determine which bit Alice sent, but with |->, he can be sure the secret bit is 0, and he can announce this bit as valid.\n",
    "\n",
    "If Eve now attempts to intercept, she will get |0> using the ⊕ base and |+> or |-> with 1/2 probability so she cannot determine the state from her measurements result in two-photon pulses. As Alice never announces her encoding bases, Eve has to store more photons to obtain reliable information, which would make it more likely that she'd be detected. "
   ]
  },
  {
   "cell_type": "markdown",
   "id": "6cc78dc1-ad35-4409-82b4-7a18c3315e75",
   "metadata": {},
   "source": [
    "#### E92\n",
    "\n",
    "This protocol relies on the propterties of quantum entanglement. A source produces pairs of particles which are in a entangled state of the form |ψ<sup>+</sup>><sub>AB</sub> = $\\frac{1}{\\sqrt{2}}$(|00> + |11>) and then this is distributed between Alice and Bob so that they can communicate. They also have access to a classical channel (although this is still susceptible to unwanted eavesdropper). Again, the scheme uses the rectilinear and diagonal bases.\n",
    "\n",
    "The source produces the pair of entangled photons and send the |ψ<sup>+</sup>><sub>A</sub> to Alice and the |ψ<sup>+</sup>><sub>B</sub> to Bob. The two parties randomly choose a basis to measure the particle and they record the result, broadcasting the basis they chose on the classical channel. If either of them did not manage to register a bit, they discard all measurements recorded which link to it. If they used different bases, they can use the information collected to identify any bit errors, detecting if there an eavesdropper has affected their channel. Otherwise, the remaining bits can be used as raw keys, assuming that Alice and Bob can be certain their quantum channel is safe. They perform error correction and privacy amplification to turn the sifted key into their shared secret key. "
   ]
  },
  {
   "cell_type": "code",
   "execution_count": null,
   "id": "757b95dd-b911-46c6-bd38-94ed4ff81fdc",
   "metadata": {},
   "outputs": [],
   "source": []
  }
 ],
 "metadata": {
  "kernelspec": {
   "display_name": "Python 3 (ipykernel)",
   "language": "python",
   "name": "python3"
  },
  "language_info": {
   "codemirror_mode": {
    "name": "ipython",
    "version": 3
   },
   "file_extension": ".py",
   "mimetype": "text/x-python",
   "name": "python",
   "nbconvert_exporter": "python",
   "pygments_lexer": "ipython3",
   "version": "3.10.11"
  }
 },
 "nbformat": 4,
 "nbformat_minor": 5
}
